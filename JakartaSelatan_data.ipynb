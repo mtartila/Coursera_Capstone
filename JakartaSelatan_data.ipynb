{
 "cells": [
  {
   "cell_type": "code",
   "execution_count": 1,
   "id": "0bc3b191",
   "metadata": {
    "scrolled": true
   },
   "outputs": [
    {
     "name": "stdout",
     "output_type": "stream",
     "text": [
      "Collecting package metadata (current_repodata.json): ...working... done\n",
      "Solving environment: ...working... done\n",
      "\n",
      "# All requested packages already installed.\n",
      "\n",
      "Libraries imported.\n"
     ]
    }
   ],
   "source": [
    "import numpy as np # library to handle data in a vectorized manner\n",
    "\n",
    "import pandas as pd # library for data analsysis\n",
    "pd.set_option('display.max_columns', None)\n",
    "pd.set_option('display.max_rows', None)\n",
    "\n",
    "import json # library to handle JSON files\n",
    "\n",
    "!conda install -c conda-forge geopy --yes \n",
    "from geopy.geocoders import Nominatim # convert an address into latitude and longitude values\n",
    "\n",
    "import requests # library to handle requests\n",
    "from pandas.io.json import json_normalize # tranform JSON file into a pandas dataframe\n",
    "\n",
    "# Matplotlib and associated plotting modules\n",
    "import matplotlib.cm as cm\n",
    "import matplotlib.colors as colors\n",
    "\n",
    "# import k-means from clustering stage\n",
    "from sklearn.cluster import KMeans\n",
    "\n",
    "#!conda install -c conda-forge folium=0.5.0 --yes # uncomment this line if you haven't completed the Foursquare API lab\n",
    "import folium # map rendering library\n",
    "\n",
    "print('Libraries imported.')"
   ]
  },
  {
   "cell_type": "code",
   "execution_count": 2,
   "id": "ac6b025d",
   "metadata": {},
   "outputs": [],
   "source": [
    "%config Completer.use_jedi = False"
   ]
  },
  {
   "cell_type": "markdown",
   "id": "e2c6a27a",
   "metadata": {},
   "source": [
    "# Importing Database from csv of Jakarta Postal Codes"
   ]
  },
  {
   "cell_type": "code",
   "execution_count": 3,
   "id": "1970d56c",
   "metadata": {},
   "outputs": [],
   "source": [
    "df = pd.read_csv('JakartaPostalCodes.csv')"
   ]
  },
  {
   "cell_type": "code",
   "execution_count": 4,
   "id": "78da31af",
   "metadata": {
    "scrolled": true
   },
   "outputs": [
    {
     "data": {
      "text/html": [
       "<div>\n",
       "<style scoped>\n",
       "    .dataframe tbody tr th:only-of-type {\n",
       "        vertical-align: middle;\n",
       "    }\n",
       "\n",
       "    .dataframe tbody tr th {\n",
       "        vertical-align: top;\n",
       "    }\n",
       "\n",
       "    .dataframe thead th {\n",
       "        text-align: right;\n",
       "    }\n",
       "</style>\n",
       "<table border=\"1\" class=\"dataframe\">\n",
       "  <thead>\n",
       "    <tr style=\"text-align: right;\">\n",
       "      <th></th>\n",
       "      <th>Kode Pos</th>\n",
       "      <th>Kecamatan</th>\n",
       "      <th>Kelurahan</th>\n",
       "    </tr>\n",
       "  </thead>\n",
       "  <tbody>\n",
       "    <tr>\n",
       "      <th>0</th>\n",
       "      <td>12430</td>\n",
       "      <td>Cilandak</td>\n",
       "      <td>Cilandak Barat</td>\n",
       "    </tr>\n",
       "    <tr>\n",
       "      <th>1</th>\n",
       "      <td>12410</td>\n",
       "      <td>Cilandak</td>\n",
       "      <td>Cipete Selatan</td>\n",
       "    </tr>\n",
       "    <tr>\n",
       "      <th>2</th>\n",
       "      <td>12420</td>\n",
       "      <td>Cilandak</td>\n",
       "      <td>Gandaria Selatan</td>\n",
       "    </tr>\n",
       "    <tr>\n",
       "      <th>3</th>\n",
       "      <td>12440</td>\n",
       "      <td>Cilandak</td>\n",
       "      <td>Lebak Bulus</td>\n",
       "    </tr>\n",
       "    <tr>\n",
       "      <th>4</th>\n",
       "      <td>12450</td>\n",
       "      <td>Cilandak</td>\n",
       "      <td>Pondok Labu</td>\n",
       "    </tr>\n",
       "  </tbody>\n",
       "</table>\n",
       "</div>"
      ],
      "text/plain": [
       "   Kode Pos Kecamatan         Kelurahan\n",
       "0     12430  Cilandak    Cilandak Barat\n",
       "1     12410  Cilandak    Cipete Selatan\n",
       "2     12420  Cilandak  Gandaria Selatan\n",
       "3     12440  Cilandak       Lebak Bulus\n",
       "4     12450  Cilandak       Pondok Labu"
      ]
     },
     "execution_count": 4,
     "metadata": {},
     "output_type": "execute_result"
    }
   ],
   "source": [
    "df.head()"
   ]
  },
  {
   "cell_type": "code",
   "execution_count": 5,
   "id": "e94132ff",
   "metadata": {},
   "outputs": [
    {
     "name": "stdout",
     "output_type": "stream",
     "text": [
      "<class 'pandas.core.frame.DataFrame'>\n",
      "RangeIndex: 65 entries, 0 to 64\n",
      "Data columns (total 3 columns):\n",
      " #   Column     Non-Null Count  Dtype \n",
      "---  ------     --------------  ----- \n",
      " 0   Kode Pos   65 non-null     int64 \n",
      " 1   Kecamatan  65 non-null     object\n",
      " 2   Kelurahan  65 non-null     object\n",
      "dtypes: int64(1), object(2)\n",
      "memory usage: 1.6+ KB\n"
     ]
    }
   ],
   "source": [
    "df.info()"
   ]
  },
  {
   "cell_type": "code",
   "execution_count": 6,
   "id": "a6befbfa",
   "metadata": {},
   "outputs": [
    {
     "data": {
      "text/plain": [
       "65"
      ]
     },
     "execution_count": 6,
     "metadata": {},
     "output_type": "execute_result"
    }
   ],
   "source": [
    "len(df['Kelurahan'])"
   ]
  },
  {
   "cell_type": "markdown",
   "id": "a29aaae0",
   "metadata": {},
   "source": [
    "# Now lets Search each Latitude and Longitude of each neighborhood"
   ]
  },
  {
   "cell_type": "code",
   "execution_count": 7,
   "id": "78c59b0e",
   "metadata": {},
   "outputs": [
    {
     "name": "stdout",
     "output_type": "stream",
     "text": [
      "-6.28381815 106.80486324917382\n"
     ]
    }
   ],
   "source": [
    "geolocator = Nominatim(user_agent=\"jakartans_users\")\n",
    "location = geolocator.geocode(\"Jakarta Selatan\")\n",
    "print(location.latitude, location.longitude)\n",
    "latjaksel = location.latitude\n",
    "longjaksel = location.longitude\n"
   ]
  },
  {
   "cell_type": "code",
   "execution_count": 8,
   "id": "3d1c486b",
   "metadata": {},
   "outputs": [],
   "source": [
    "longlat = []\n",
    "for x in range(len(df['Kelurahan'])):\n",
    "    location = geolocator.geocode(\"{},{}\".format(df['Kelurahan'][x],df['Kecamatan'][x]))\n",
    "    longlat.append([location.latitude, location.longitude])\n"
   ]
  },
  {
   "cell_type": "code",
   "execution_count": 9,
   "id": "51d93511",
   "metadata": {
    "scrolled": false
   },
   "outputs": [],
   "source": [
    "longlat = np.array(longlat)\n"
   ]
  },
  {
   "cell_type": "markdown",
   "id": "764aad00",
   "metadata": {},
   "source": [
    "# As we finished getting our latitude and longitude for each neighborhood, its time to add it into dataframe"
   ]
  },
  {
   "cell_type": "code",
   "execution_count": 10,
   "id": "87a87ec4",
   "metadata": {},
   "outputs": [],
   "source": [
    "longlat = pd.DataFrame(longlat,columns=['Latitude','Longitude'])"
   ]
  },
  {
   "cell_type": "code",
   "execution_count": 11,
   "id": "d341080e",
   "metadata": {},
   "outputs": [
    {
     "data": {
      "text/html": [
       "<div>\n",
       "<style scoped>\n",
       "    .dataframe tbody tr th:only-of-type {\n",
       "        vertical-align: middle;\n",
       "    }\n",
       "\n",
       "    .dataframe tbody tr th {\n",
       "        vertical-align: top;\n",
       "    }\n",
       "\n",
       "    .dataframe thead th {\n",
       "        text-align: right;\n",
       "    }\n",
       "</style>\n",
       "<table border=\"1\" class=\"dataframe\">\n",
       "  <thead>\n",
       "    <tr style=\"text-align: right;\">\n",
       "      <th></th>\n",
       "      <th>Latitude</th>\n",
       "      <th>Longitude</th>\n",
       "    </tr>\n",
       "  </thead>\n",
       "  <tbody>\n",
       "    <tr>\n",
       "      <th>0</th>\n",
       "      <td>-6.290266</td>\n",
       "      <td>106.796215</td>\n",
       "    </tr>\n",
       "    <tr>\n",
       "      <th>1</th>\n",
       "      <td>-6.272540</td>\n",
       "      <td>106.805768</td>\n",
       "    </tr>\n",
       "    <tr>\n",
       "      <th>2</th>\n",
       "      <td>-6.271562</td>\n",
       "      <td>106.795172</td>\n",
       "    </tr>\n",
       "    <tr>\n",
       "      <th>3</th>\n",
       "      <td>-6.302568</td>\n",
       "      <td>106.780354</td>\n",
       "    </tr>\n",
       "    <tr>\n",
       "      <th>4</th>\n",
       "      <td>-6.309144</td>\n",
       "      <td>106.797938</td>\n",
       "    </tr>\n",
       "  </tbody>\n",
       "</table>\n",
       "</div>"
      ],
      "text/plain": [
       "   Latitude   Longitude\n",
       "0 -6.290266  106.796215\n",
       "1 -6.272540  106.805768\n",
       "2 -6.271562  106.795172\n",
       "3 -6.302568  106.780354\n",
       "4 -6.309144  106.797938"
      ]
     },
     "execution_count": 11,
     "metadata": {},
     "output_type": "execute_result"
    }
   ],
   "source": [
    "longlat.head()"
   ]
  },
  {
   "cell_type": "code",
   "execution_count": 12,
   "id": "c60d822c",
   "metadata": {},
   "outputs": [],
   "source": [
    "df = pd.concat([df,longlat],axis=1)"
   ]
  },
  {
   "cell_type": "code",
   "execution_count": 13,
   "id": "703d466f",
   "metadata": {},
   "outputs": [
    {
     "data": {
      "text/html": [
       "<div>\n",
       "<style scoped>\n",
       "    .dataframe tbody tr th:only-of-type {\n",
       "        vertical-align: middle;\n",
       "    }\n",
       "\n",
       "    .dataframe tbody tr th {\n",
       "        vertical-align: top;\n",
       "    }\n",
       "\n",
       "    .dataframe thead th {\n",
       "        text-align: right;\n",
       "    }\n",
       "</style>\n",
       "<table border=\"1\" class=\"dataframe\">\n",
       "  <thead>\n",
       "    <tr style=\"text-align: right;\">\n",
       "      <th></th>\n",
       "      <th>Kode Pos</th>\n",
       "      <th>Kecamatan</th>\n",
       "      <th>Kelurahan</th>\n",
       "      <th>Latitude</th>\n",
       "      <th>Longitude</th>\n",
       "    </tr>\n",
       "  </thead>\n",
       "  <tbody>\n",
       "    <tr>\n",
       "      <th>0</th>\n",
       "      <td>12430</td>\n",
       "      <td>Cilandak</td>\n",
       "      <td>Cilandak Barat</td>\n",
       "      <td>-6.290266</td>\n",
       "      <td>106.796215</td>\n",
       "    </tr>\n",
       "    <tr>\n",
       "      <th>1</th>\n",
       "      <td>12410</td>\n",
       "      <td>Cilandak</td>\n",
       "      <td>Cipete Selatan</td>\n",
       "      <td>-6.272540</td>\n",
       "      <td>106.805768</td>\n",
       "    </tr>\n",
       "    <tr>\n",
       "      <th>2</th>\n",
       "      <td>12420</td>\n",
       "      <td>Cilandak</td>\n",
       "      <td>Gandaria Selatan</td>\n",
       "      <td>-6.271562</td>\n",
       "      <td>106.795172</td>\n",
       "    </tr>\n",
       "    <tr>\n",
       "      <th>3</th>\n",
       "      <td>12440</td>\n",
       "      <td>Cilandak</td>\n",
       "      <td>Lebak Bulus</td>\n",
       "      <td>-6.302568</td>\n",
       "      <td>106.780354</td>\n",
       "    </tr>\n",
       "    <tr>\n",
       "      <th>4</th>\n",
       "      <td>12450</td>\n",
       "      <td>Cilandak</td>\n",
       "      <td>Pondok Labu</td>\n",
       "      <td>-6.309144</td>\n",
       "      <td>106.797938</td>\n",
       "    </tr>\n",
       "  </tbody>\n",
       "</table>\n",
       "</div>"
      ],
      "text/plain": [
       "   Kode Pos Kecamatan         Kelurahan  Latitude   Longitude\n",
       "0     12430  Cilandak    Cilandak Barat -6.290266  106.796215\n",
       "1     12410  Cilandak    Cipete Selatan -6.272540  106.805768\n",
       "2     12420  Cilandak  Gandaria Selatan -6.271562  106.795172\n",
       "3     12440  Cilandak       Lebak Bulus -6.302568  106.780354\n",
       "4     12450  Cilandak       Pondok Labu -6.309144  106.797938"
      ]
     },
     "execution_count": 13,
     "metadata": {},
     "output_type": "execute_result"
    }
   ],
   "source": [
    "df.head()"
   ]
  },
  {
   "cell_type": "markdown",
   "id": "6f354837",
   "metadata": {},
   "source": [
    "# Adding Population Data of each Neighborhood / Kelurahan into the dataset"
   ]
  },
  {
   "cell_type": "code",
   "execution_count": 28,
   "id": "d0ebca81",
   "metadata": {
    "scrolled": true
   },
   "outputs": [
    {
     "data": {
      "text/html": [
       "<div>\n",
       "<style scoped>\n",
       "    .dataframe tbody tr th:only-of-type {\n",
       "        vertical-align: middle;\n",
       "    }\n",
       "\n",
       "    .dataframe tbody tr th {\n",
       "        vertical-align: top;\n",
       "    }\n",
       "\n",
       "    .dataframe thead th {\n",
       "        text-align: right;\n",
       "    }\n",
       "</style>\n",
       "<table border=\"1\" class=\"dataframe\">\n",
       "  <thead>\n",
       "    <tr style=\"text-align: right;\">\n",
       "      <th></th>\n",
       "      <th>kecamatan</th>\n",
       "      <th>kelurahan</th>\n",
       "      <th>jumlah_lakilaki</th>\n",
       "      <th>jumlah_perempuan</th>\n",
       "    </tr>\n",
       "  </thead>\n",
       "  <tbody>\n",
       "    <tr>\n",
       "      <th>0</th>\n",
       "      <td>TEBET</td>\n",
       "      <td>TEBET TIMUR</td>\n",
       "      <td>10473</td>\n",
       "      <td>11079</td>\n",
       "    </tr>\n",
       "    <tr>\n",
       "      <th>1</th>\n",
       "      <td>TEBET</td>\n",
       "      <td>TEBET BARAT</td>\n",
       "      <td>12505</td>\n",
       "      <td>12987</td>\n",
       "    </tr>\n",
       "    <tr>\n",
       "      <th>2</th>\n",
       "      <td>TEBET</td>\n",
       "      <td>MENTENG DALAM</td>\n",
       "      <td>22440</td>\n",
       "      <td>22481</td>\n",
       "    </tr>\n",
       "    <tr>\n",
       "      <th>3</th>\n",
       "      <td>TEBET</td>\n",
       "      <td>KEBON BARU</td>\n",
       "      <td>21562</td>\n",
       "      <td>21493</td>\n",
       "    </tr>\n",
       "    <tr>\n",
       "      <th>4</th>\n",
       "      <td>TEBET</td>\n",
       "      <td>BUKIT DURI</td>\n",
       "      <td>21103</td>\n",
       "      <td>20812</td>\n",
       "    </tr>\n",
       "  </tbody>\n",
       "</table>\n",
       "</div>"
      ],
      "text/plain": [
       "  kecamatan      kelurahan  jumlah_lakilaki  jumlah_perempuan\n",
       "0     TEBET    TEBET TIMUR            10473             11079\n",
       "1     TEBET    TEBET BARAT            12505             12987\n",
       "2     TEBET  MENTENG DALAM            22440             22481\n",
       "3     TEBET     KEBON BARU            21562             21493\n",
       "4     TEBET     BUKIT DURI            21103             20812"
      ]
     },
     "execution_count": 28,
     "metadata": {},
     "output_type": "execute_result"
    }
   ],
   "source": [
    "dfpop = pd.read_csv('data-kependudukan-tahun-2019.csv')\n",
    "dfpop.head()"
   ]
  },
  {
   "cell_type": "code",
   "execution_count": 29,
   "id": "475b968a",
   "metadata": {
    "scrolled": true
   },
   "outputs": [
    {
     "data": {
      "text/html": [
       "<div>\n",
       "<style scoped>\n",
       "    .dataframe tbody tr th:only-of-type {\n",
       "        vertical-align: middle;\n",
       "    }\n",
       "\n",
       "    .dataframe tbody tr th {\n",
       "        vertical-align: top;\n",
       "    }\n",
       "\n",
       "    .dataframe thead th {\n",
       "        text-align: right;\n",
       "    }\n",
       "</style>\n",
       "<table border=\"1\" class=\"dataframe\">\n",
       "  <thead>\n",
       "    <tr style=\"text-align: right;\">\n",
       "      <th></th>\n",
       "      <th>kecamatan</th>\n",
       "      <th>kelurahan</th>\n",
       "      <th>jumlah_lakilaki</th>\n",
       "      <th>jumlah_perempuan</th>\n",
       "    </tr>\n",
       "  </thead>\n",
       "  <tbody>\n",
       "    <tr>\n",
       "      <th>0</th>\n",
       "      <td>Tebet</td>\n",
       "      <td>Tebet Timur</td>\n",
       "      <td>10473</td>\n",
       "      <td>11079</td>\n",
       "    </tr>\n",
       "    <tr>\n",
       "      <th>1</th>\n",
       "      <td>Tebet</td>\n",
       "      <td>Tebet Barat</td>\n",
       "      <td>12505</td>\n",
       "      <td>12987</td>\n",
       "    </tr>\n",
       "    <tr>\n",
       "      <th>2</th>\n",
       "      <td>Tebet</td>\n",
       "      <td>Menteng Dalam</td>\n",
       "      <td>22440</td>\n",
       "      <td>22481</td>\n",
       "    </tr>\n",
       "    <tr>\n",
       "      <th>3</th>\n",
       "      <td>Tebet</td>\n",
       "      <td>Kebon Baru</td>\n",
       "      <td>21562</td>\n",
       "      <td>21493</td>\n",
       "    </tr>\n",
       "    <tr>\n",
       "      <th>4</th>\n",
       "      <td>Tebet</td>\n",
       "      <td>Bukit Duri</td>\n",
       "      <td>21103</td>\n",
       "      <td>20812</td>\n",
       "    </tr>\n",
       "  </tbody>\n",
       "</table>\n",
       "</div>"
      ],
      "text/plain": [
       "  kecamatan      kelurahan  jumlah_lakilaki  jumlah_perempuan\n",
       "0     Tebet    Tebet Timur            10473             11079\n",
       "1     Tebet    Tebet Barat            12505             12987\n",
       "2     Tebet  Menteng Dalam            22440             22481\n",
       "3     Tebet     Kebon Baru            21562             21493\n",
       "4     Tebet     Bukit Duri            21103             20812"
      ]
     },
     "execution_count": 29,
     "metadata": {},
     "output_type": "execute_result"
    }
   ],
   "source": [
    "dfpop['kecamatan'] = dfpop['kecamatan'].str.title()\n",
    "dfpop['kelurahan'] = dfpop['kelurahan'].str.title()\n",
    "dfpop.head()"
   ]
  }
 ],
 "metadata": {
  "kernelspec": {
   "display_name": "Python 3",
   "language": "python",
   "name": "python3"
  },
  "language_info": {
   "codemirror_mode": {
    "name": "ipython",
    "version": 3
   },
   "file_extension": ".py",
   "mimetype": "text/x-python",
   "name": "python",
   "nbconvert_exporter": "python",
   "pygments_lexer": "ipython3",
   "version": "3.8.5"
  }
 },
 "nbformat": 4,
 "nbformat_minor": 5
}
